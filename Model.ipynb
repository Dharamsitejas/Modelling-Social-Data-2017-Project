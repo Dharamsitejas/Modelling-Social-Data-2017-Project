{
 "cells": [
  {
   "cell_type": "markdown",
   "metadata": {},
   "source": [
    "### Model 1"
   ]
  },
  {
   "cell_type": "code",
   "execution_count": 1,
   "metadata": {
    "collapsed": false
   },
   "outputs": [
    {
     "name": "stdout",
     "output_type": "stream",
     "text": [
      "Model1\n"
     ]
    }
   ],
   "source": [
    "#Load relevant libraries\n",
    "\n",
    "print(\"Model1\")\n",
    "import sklearn\n",
    "import pandas as pd\n",
    "from sklearn.ensemble import RandomForestClassifier\n",
    "from sklearn.model_selection import cross_val_score\n",
    "from sklearn.model_selection import cross_val_predict\n",
    "from sklearn.preprocessing import Imputer\n",
    "import numpy as np\n",
    "from sklearn.metrics import confusion_matrix\n",
    "from sklearn.feature_selection import SelectKBest\n",
    "from sklearn.feature_selection import chi2,mutual_info_regression\n",
    "from sklearn.feature_selection import RFECV\n",
    "from sklearn.model_selection import StratifiedKFold\n",
    "from sklearn.metrics import classification_report\n",
    "from sklearn.metrics import roc_auc_score\n",
    "from sklearn import metrics\n",
    "import matplotlib.pyplot as plt\n",
    "import random \n",
    "random.seed(1994)"
   ]
  },
  {
   "cell_type": "code",
   "execution_count": null,
   "metadata": {
    "collapsed": true
   },
   "outputs": [],
   "source": []
  },
  {
   "cell_type": "code",
   "execution_count": 2,
   "metadata": {
    "collapsed": true
   },
   "outputs": [],
   "source": [
    "#Cleaning function for price column\n",
    "def remove2(s):\n",
    "    return float(s[1:].replace(',',''))"
   ]
  },
  {
   "cell_type": "code",
   "execution_count": 3,
   "metadata": {
    "collapsed": false
   },
   "outputs": [],
   "source": [
    "#Reading Data and removing data points with no reviews\n",
    "data = pd.read_csv(\"mycsv.csv\")\n",
    "ytrain = pd.read_csv(\"ylab.csv\")\n",
    "ytrain=ytrain.loc[data['number_of_reviews']!=0]\n",
    "data=data.loc[data['number_of_reviews']!=0]\n"
   ]
  },
  {
   "cell_type": "code",
   "execution_count": 4,
   "metadata": {
    "collapsed": false
   },
   "outputs": [],
   "source": [
    "data['price'] = data['price'].apply(remove2)"
   ]
  },
  {
   "cell_type": "code",
   "execution_count": 5,
   "metadata": {
    "collapsed": false
   },
   "outputs": [],
   "source": [
    "ytrain=ytrain.as_matrix()\n",
    "ytrain=ytrain[:,0]\n",
    "data=pd.get_dummies(data, columns = ['host_response_time','room_type','instant_bookable'])\n",
    "del data['city']\n",
    "del data['property_type']\n",
    "del data['host_listings_count']"
   ]
  },
  {
   "cell_type": "code",
   "execution_count": 6,
   "metadata": {
    "collapsed": false
   },
   "outputs": [],
   "source": [
    "xtrain=data.as_matrix()\n",
    "imp = Imputer(missing_values=np.nan, strategy='median', axis=0)\n",
    "imp.fit(xtrain)\n",
    "xtrain=imp.transform(xtrain)\n",
    "xtrain=np.asmatrix(xtrain)\n",
    "\n"
   ]
  },
  {
   "cell_type": "code",
   "execution_count": 7,
   "metadata": {
    "collapsed": false
   },
   "outputs": [],
   "source": [
    "from sklearn.model_selection import train_test_split\n",
    "X_train, X_test, y_train, y_test = train_test_split(xtrain, ytrain, test_size=0.25, random_state=100)"
   ]
  },
  {
   "cell_type": "code",
   "execution_count": 8,
   "metadata": {
    "collapsed": false
   },
   "outputs": [
    {
     "data": {
      "text/plain": [
       "RandomForestClassifier(bootstrap=True, class_weight='balanced',\n",
       "            criterion='gini', max_depth=16, max_features='auto',\n",
       "            max_leaf_nodes=None, min_impurity_split=1e-07,\n",
       "            min_samples_leaf=1, min_samples_split=2,\n",
       "            min_weight_fraction_leaf=0.0, n_estimators=200, n_jobs=1,\n",
       "            oob_score=False, random_state=25, verbose=0, warm_start=False)"
      ]
     },
     "execution_count": 8,
     "metadata": {},
     "output_type": "execute_result"
    }
   ],
   "source": [
    "clf = RandomForestClassifier(n_estimators=200,class_weight='balanced',max_depth=16,max_features=\"auto\",random_state=25)\n",
    "#clf = LogisticRegression(max_iter=1000, random_state=42)\n",
    "clf.fit(X_train, y_train)"
   ]
  },
  {
   "cell_type": "code",
   "execution_count": 9,
   "metadata": {
    "collapsed": false
   },
   "outputs": [
    {
     "name": "stdout",
     "output_type": "stream",
     "text": [
      "Train Acc:  0.876573324391\n"
     ]
    }
   ],
   "source": [
    "scores=cross_val_score(clf, X_train, y_train, cv=StratifiedKFold(5))\n",
    "print(\"Train Acc: \",scores.mean())"
   ]
  },
  {
   "cell_type": "code",
   "execution_count": 10,
   "metadata": {
    "collapsed": false
   },
   "outputs": [
    {
     "name": "stdout",
     "output_type": "stream",
     "text": [
      "Test Acc: 0.880831731609\n",
      "Confusion Matrix\n",
      "[[4518  386]\n",
      " [ 296  523]]\n"
     ]
    }
   ],
   "source": [
    "print(\"Test Acc:\",clf.score(X_test, y_test))\n",
    "y_pred=clf.predict(X_test)\n",
    "y_proba=clf.predict_proba(X_test)\n",
    "print(\"Confusion Matrix\")\n",
    "print(confusion_matrix(y_test,y_pred))"
   ]
  },
  {
   "cell_type": "code",
   "execution_count": 11,
   "metadata": {
    "collapsed": false
   },
   "outputs": [
    {
     "name": "stdout",
     "output_type": "stream",
     "text": [
      "             precision    recall  f1-score   support\n",
      "\n",
      "      False       0.94      0.92      0.93      4904\n",
      "       True       0.58      0.64      0.61       819\n",
      "\n",
      "avg / total       0.89      0.88      0.88      5723\n",
      "\n",
      "AUC : 0.884401634708\n"
     ]
    },
    {
     "data": {
      "image/png": "[encoded data removed]",
      "text/plain": [
       "<matplotlib.figure.Figure at 0x1043368d0>"
      ]
     },
     "metadata": {},
     "output_type": "display_data"
    }
   ],
   "source": [
    "print(classification_report(y_test,y_pred))\n",
    "fpr1, tpr1, thresholds = metrics.roc_curve(y_test, y_proba[:,1])\n",
    "plt.plot(fpr1,tpr1)\n",
    "print(\"AUC :\",metrics.auc(fpr1,tpr1))\n",
    "plt.plot([0,1],linestyle='-.')\n",
    "plt.xlabel(\"FPR\")\n",
    "plt.ylabel(\"TPR\")\n",
    "plt.title(\"ROC Curve\")\n",
    "plt.show()"
   ]
  },
  {
   "cell_type": "markdown",
   "metadata": {},
   "source": [
    "### Model 2"
   ]
  },
  {
   "cell_type": "code",
   "execution_count": 12,
   "metadata": {
    "collapsed": false
   },
   "outputs": [
    {
     "name": "stdout",
     "output_type": "stream",
     "text": [
      "Model 2\n"
     ]
    }
   ],
   "source": [
    "print(\"Model 2\")\n",
    "data = pd.read_csv(\"mycsv.csv\")\n",
    "ytrain = pd.read_csv(\"ylab.csv\")\n",
    "ytrain=ytrain.loc[data['number_of_reviews']!=0]\n",
    "data=data.loc[data['number_of_reviews']!=0]\n",
    "del data['city']\n",
    "del data['property_type']\n",
    "del data['host_listings_count']\n",
    "data=pd.get_dummies(data, columns = ['host_response_time','room_type','instant_bookable'])\n",
    "data['price'] = data['price'].apply(remove2)\n",
    "\n"
   ]
  },
  {
   "cell_type": "code",
   "execution_count": 13,
   "metadata": {
    "collapsed": false
   },
   "outputs": [],
   "source": [
    "xtrain=data.as_matrix()\n",
    "ytrain=ytrain.as_matrix()\n",
    "imp = Imputer(missing_values=np.nan, strategy='median', axis=0)\n",
    "imp.fit(xtrain)\n",
    "xtrain=imp.transform(xtrain)\n",
    "xtrain=np.asmatrix(xtrain)\n",
    "ytrain=ytrain[:,0]\n"
   ]
  },
  {
   "cell_type": "code",
   "execution_count": 14,
   "metadata": {
    "collapsed": false
   },
   "outputs": [],
   "source": [
    "index0 = np.where(ytrain == False)\n",
    "index1 = np.where(ytrain ==True)\n",
    "index0 = index0[0].tolist()\n",
    "index1 = index1[0].tolist()\n",
    "\n"
   ]
  },
  {
   "cell_type": "code",
   "execution_count": 15,
   "metadata": {
    "collapsed": false
   },
   "outputs": [],
   "source": [
    "import random\n",
    "a = random.sample(index0,3000)\n",
    "b =random.sample(index1,3000)\n",
    "xt = np.concatenate((xtrain[a],xtrain[b]),axis=0)\n",
    "yt = np.concatenate((ytrain[a],ytrain[b]),axis=0)"
   ]
  },
  {
   "cell_type": "code",
   "execution_count": 16,
   "metadata": {
    "collapsed": false
   },
   "outputs": [],
   "source": [
    "from sklearn.model_selection import train_test_split\n",
    "X_train, X_test, y_train, y_test = train_test_split(xt, yt, test_size=0.25, random_state=100,stratify=yt)"
   ]
  },
  {
   "cell_type": "code",
   "execution_count": 17,
   "metadata": {
    "collapsed": false
   },
   "outputs": [
    {
     "data": {
      "text/plain": [
       "RandomForestClassifier(bootstrap=True, class_weight=None, criterion='gini',\n",
       "            max_depth=16, max_features='auto', max_leaf_nodes=None,\n",
       "            min_impurity_split=1e-07, min_samples_leaf=1,\n",
       "            min_samples_split=2, min_weight_fraction_leaf=0.0,\n",
       "            n_estimators=200, n_jobs=1, oob_score=False, random_state=25,\n",
       "            verbose=0, warm_start=False)"
      ]
     },
     "execution_count": 17,
     "metadata": {},
     "output_type": "execute_result"
    }
   ],
   "source": [
    "clf = RandomForestClassifier(n_estimators=200,random_state=25,max_depth=16)\n",
    "#clf = LogisticRegression(max_iter=1000, random_state=42)\n",
    "clf.fit(X_train, y_train)"
   ]
  },
  {
   "cell_type": "code",
   "execution_count": 18,
   "metadata": {
    "collapsed": false
   },
   "outputs": [
    {
     "name": "stdout",
     "output_type": "stream",
     "text": [
      "Train Acc: 0.799333333333\n"
     ]
    }
   ],
   "source": [
    "scores=cross_val_score(clf, X_train, y_train, cv=StratifiedKFold(5))\n",
    "print(\"Train Acc:\",scores.mean())"
   ]
  },
  {
   "cell_type": "code",
   "execution_count": 19,
   "metadata": {
    "collapsed": false
   },
   "outputs": [
    {
     "name": "stdout",
     "output_type": "stream",
     "text": [
      "Test Acc: 0.794\n",
      "Confusion Matrix \n",
      "[[600 150]\n",
      " [159 591]]\n"
     ]
    }
   ],
   "source": [
    "print(\"Test Acc:\",clf.score(X_test, y_test))\n",
    "y_pred=clf.predict(X_test)\n",
    "y_proba=clf.predict_proba(X_test)\n",
    "\n",
    "print(\"Confusion Matrix \")\n",
    "print(confusion_matrix(y_test,y_pred))"
   ]
  },
  {
   "cell_type": "code",
   "execution_count": 20,
   "metadata": {
    "collapsed": false
   },
   "outputs": [
    {
     "name": "stdout",
     "output_type": "stream",
     "text": [
      "             precision    recall  f1-score   support\n",
      "\n",
      "      False       0.79      0.80      0.80       750\n",
      "       True       0.80      0.79      0.79       750\n",
      "\n",
      "avg / total       0.79      0.79      0.79      1500\n",
      "\n",
      "AUC : 0.883075555556\n"
     ]
    },
    {
     "data": {
      "image/png": "[encoded data removed]",
      "text/plain": [
       "<matplotlib.figure.Figure at 0x109de64e0>"
      ]
     },
     "metadata": {},
     "output_type": "display_data"
    }
   ],
   "source": [
    "print(classification_report(y_test,y_pred))\n",
    "fpr2, tpr2, thresholds = metrics.roc_curve(y_test, y_proba[:,1])\n",
    "print(\"AUC :\",metrics.auc(fpr2,tpr2))\n",
    "plt.plot(fpr2,tpr2)\n",
    "plt.plot([0,1],linestyle='-.')\n",
    "plt.xlabel(\"FPR\")\n",
    "plt.ylabel(\"TPR\")\n",
    "plt.title(\"ROC Curve\")\n",
    "plt.show()"
   ]
  },
  {
   "cell_type": "markdown",
   "metadata": {},
   "source": [
    "\n",
    "### Model 3"
   ]
  },
  {
   "cell_type": "code",
   "execution_count": 21,
   "metadata": {
    "collapsed": false
   },
   "outputs": [],
   "source": [
    "data = pd.read_csv(\"mycsv.csv\")\n",
    "ytrain = pd.read_csv(\"ylab.csv\")\n",
    "ytrain=ytrain.loc[data['number_of_reviews']!=0]\n",
    "data=data.loc[data['number_of_reviews']!=0]\n",
    "data['price'] = data['price'].apply(remove2)\n",
    "data=data[['host_response_rate','host_response_time','review_scores_rating','number_of_reviews']]\n",
    "data=pd.get_dummies(data, columns = ['host_response_time'])\n",
    "\n"
   ]
  },
  {
   "cell_type": "code",
   "execution_count": 22,
   "metadata": {
    "collapsed": false
   },
   "outputs": [],
   "source": [
    "xtrain=data.as_matrix()\n",
    "y_train=ytrain.as_matrix()\n",
    "imp = Imputer(missing_values=np.nan, strategy='mean', axis=0)\n",
    "imp.fit(xtrain)\n",
    "xtrain=imp.transform(xtrain)\n",
    "xtrain=np.asmatrix(xtrain)\n",
    "y_train=y_train[:,0]\n"
   ]
  },
  {
   "cell_type": "code",
   "execution_count": 23,
   "metadata": {
    "collapsed": false
   },
   "outputs": [],
   "source": [
    "import random\n",
    "index0 = np.where(y_train == False)\n",
    "index1 = np.where(y_train ==True)\n",
    "index0 = index0[0].tolist()\n",
    "index1 = index1[0].tolist()\n",
    "a = random.sample(index0,3000)\n",
    "b =random.sample(index1,3000)\n",
    "xt = np.concatenate((xtrain[a],xtrain[b]),axis=0)\n",
    "yt = np.concatenate((y_train[a],y_train[b]),axis=0)\n",
    "from sklearn.model_selection import train_test_split\n",
    "X_train, X_test, y_train, y_test = train_test_split(xt, yt, test_size=0.25, random_state=100,stratify=yt)"
   ]
  },
  {
   "cell_type": "code",
   "execution_count": 24,
   "metadata": {
    "collapsed": false
   },
   "outputs": [
    {
     "data": {
      "text/plain": [
       "RandomForestClassifier(bootstrap=True, class_weight=None, criterion='gini',\n",
       "            max_depth=16, max_features='auto', max_leaf_nodes=None,\n",
       "            min_impurity_split=1e-07, min_samples_leaf=4,\n",
       "            min_samples_split=2, min_weight_fraction_leaf=0.0,\n",
       "            n_estimators=200, n_jobs=1, oob_score=False, random_state=25,\n",
       "            verbose=0, warm_start=False)"
      ]
     },
     "execution_count": 24,
     "metadata": {},
     "output_type": "execute_result"
    }
   ],
   "source": [
    "clf = RandomForestClassifier(n_estimators=200,max_depth=16,min_samples_leaf=4,random_state=25)\n",
    "#clf = LogisticRegression(max_iter=1000, random_state=42)\n",
    "clf.fit(X_train, y_train)"
   ]
  },
  {
   "cell_type": "code",
   "execution_count": 25,
   "metadata": {
    "collapsed": false
   },
   "outputs": [
    {
     "name": "stdout",
     "output_type": "stream",
     "text": [
      "Train Acc: 0.801333333333\n"
     ]
    }
   ],
   "source": [
    "scores=cross_val_score(clf, X_train, y_train, cv=StratifiedKFold(5))\n",
    "print(\"Train Acc:\",scores.mean())"
   ]
  },
  {
   "cell_type": "code",
   "execution_count": 26,
   "metadata": {
    "collapsed": false
   },
   "outputs": [
    {
     "name": "stdout",
     "output_type": "stream",
     "text": [
      "Test Acc: 0.788666666667\n",
      "Confusion Matrix\n",
      "[[622 128]\n",
      " [189 561]]\n"
     ]
    }
   ],
   "source": [
    "print(\"Test Acc:\",clf.score(X_test, y_test))\n",
    "y_pred=clf.predict(X_test)\n",
    "y_proba=clf.predict_proba(X_test)\n",
    "print(\"Confusion Matrix\")\n",
    "print(confusion_matrix(y_test,y_pred))"
   ]
  },
  {
   "cell_type": "code",
   "execution_count": 27,
   "metadata": {
    "collapsed": false
   },
   "outputs": [
    {
     "name": "stdout",
     "output_type": "stream",
     "text": [
      "             precision    recall  f1-score   support\n",
      "\n",
      "      False       0.77      0.83      0.80       750\n",
      "       True       0.81      0.75      0.78       750\n",
      "\n",
      "avg / total       0.79      0.79      0.79      1500\n",
      "\n",
      "0.866580444444\n"
     ]
    },
    {
     "data": {
      "image/png": "[encoded data removed]",
      "text/plain": [
       "<matplotlib.figure.Figure at 0x10aaaf780>"
      ]
     },
     "metadata": {},
     "output_type": "display_data"
    }
   ],
   "source": [
    "print(classification_report(y_test,y_pred))\n",
    "fpr3, tpr3, thresholds = metrics.roc_curve(y_test, y_proba[:,1])\n",
    "print(metrics.auc(fpr3,tpr3))\n",
    "plt.plot(fpr3,tpr3)\n",
    "plt.plot([0,1],linestyle='-.')\n",
    "plt.xlabel(\"FPR\")\n",
    "plt.ylabel(\"TPR\")\n",
    "plt.title(\"ROC Curve\")\n",
    "plt.xlim(-.01,1.01)\n",
    "plt.ylim(0,1.01)\n",
    "plt.show()"
   ]
  },
  {
   "cell_type": "code",
   "execution_count": null,
   "metadata": {
    "collapsed": true
   },
   "outputs": [],
   "source": []
  },
  {
   "cell_type": "code",
   "execution_count": null,
   "metadata": {
    "collapsed": true
   },
   "outputs": [],
   "source": []
  },
  {
   "cell_type": "code",
   "execution_count": null,
   "metadata": {
    "collapsed": true
   },
   "outputs": [],
   "source": []
  }
 ],
 "metadata": {
  "kernelspec": {
   "display_name": "Python 3",
   "language": "python",
   "name": "python3"
  },
  "language_info": {
   "codemirror_mode": {
    "name": "ipython",
    "version": 3
   },
   "file_extension": ".py",
   "mimetype": "text/x-python",
   "name": "python",
   "nbconvert_exporter": "python",
   "pygments_lexer": "ipython3",
   "version": "3.4.4"
  }
 },
 "nbformat": 4,
 "nbformat_minor": 0
}
